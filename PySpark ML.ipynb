{
 "cells": [
  {
   "cell_type": "markdown",
   "id": "a4db4320-60a4-43d7-9c74-69d9753b9d34",
   "metadata": {},
   "source": [
    "### Linear Regression in PySpark"
   ]
  },
  {
   "cell_type": "code",
   "execution_count": 1,
   "id": "95b703bb-2039-4241-82de-cccc9772908c",
   "metadata": {},
   "outputs": [],
   "source": [
    "from pyspark.sql import SparkSession"
   ]
  },
  {
   "cell_type": "code",
   "execution_count": 2,
   "id": "2aecf713-5466-42fb-8e20-1b828cbbdc19",
   "metadata": {},
   "outputs": [],
   "source": [
    "spark = SparkSession.builder.appName('pyml').getOrCreate()"
   ]
  },
  {
   "cell_type": "code",
   "execution_count": 6,
   "id": "da749fa2-0426-4ba6-9996-c27ec5f3d2e8",
   "metadata": {},
   "outputs": [],
   "source": [
    "training = spark.read.csv('test1.csv', header = True, inferSchema = True)"
   ]
  },
  {
   "cell_type": "code",
   "execution_count": 7,
   "id": "a95fa82d-b3ab-466f-bbca-7ced9059f784",
   "metadata": {},
   "outputs": [
    {
     "name": "stdout",
     "output_type": "stream",
     "text": [
      "+---------+---+----------+------+\n",
      "|     Name|Age|Experience|Salary|\n",
      "+---------+---+----------+------+\n",
      "|   Srijit| 29|         6| 10000|\n",
      "|    Parna| 25|         4|  8000|\n",
      "|Soumyajit| 26|         4|  8400|\n",
      "|   Rounak| 29|         7| 18000|\n",
      "|   Varsha| 28|         6| 12000|\n",
      "|   Anisha| 27|         5| 14000|\n",
      "|   Aritra| 28|         5| 11000|\n",
      "+---------+---+----------+------+\n",
      "\n"
     ]
    }
   ],
   "source": [
    "training.show()"
   ]
  },
  {
   "cell_type": "code",
   "execution_count": 8,
   "id": "e16fcab7-ee7d-4bd8-b869-f5cefda1871e",
   "metadata": {},
   "outputs": [
    {
     "name": "stdout",
     "output_type": "stream",
     "text": [
      "root\n",
      " |-- Name: string (nullable = true)\n",
      " |-- Age: integer (nullable = true)\n",
      " |-- Experience: integer (nullable = true)\n",
      " |-- Salary: integer (nullable = true)\n",
      "\n"
     ]
    }
   ],
   "source": [
    "training.printSchema()"
   ]
  },
  {
   "cell_type": "code",
   "execution_count": 9,
   "id": "cbc9b8b5-a398-4c30-94cc-c6a9ee7ca33b",
   "metadata": {},
   "outputs": [
    {
     "data": {
      "text/plain": [
       "['Name', 'Age', 'Experience', 'Salary']"
      ]
     },
     "execution_count": 9,
     "metadata": {},
     "output_type": "execute_result"
    }
   ],
   "source": [
    "training.columns"
   ]
  },
  {
   "cell_type": "code",
   "execution_count": 12,
   "id": "222774b5-812e-4e01-ac6c-038808e697ca",
   "metadata": {},
   "outputs": [],
   "source": [
    "from pyspark.ml.feature import VectorAssembler\n",
    "featureassembler=VectorAssembler(inputCols=[\"Age\",\"Experience\"],outputCol=\"Independent Features\")"
   ]
  },
  {
   "cell_type": "code",
   "execution_count": 13,
   "id": "84db932a-bc34-45b2-ae22-8c13a42e0880",
   "metadata": {},
   "outputs": [],
   "source": [
    "output=featureassembler.transform(training)"
   ]
  },
  {
   "cell_type": "code",
   "execution_count": 14,
   "id": "e22cd7d1-82af-4603-b222-e22e46b14911",
   "metadata": {},
   "outputs": [
    {
     "name": "stdout",
     "output_type": "stream",
     "text": [
      "+---------+---+----------+------+--------------------+\n",
      "|     Name|Age|Experience|Salary|Independent Features|\n",
      "+---------+---+----------+------+--------------------+\n",
      "|   Srijit| 29|         6| 10000|          [29.0,6.0]|\n",
      "|    Parna| 25|         4|  8000|          [25.0,4.0]|\n",
      "|Soumyajit| 26|         4|  8400|          [26.0,4.0]|\n",
      "|   Rounak| 29|         7| 18000|          [29.0,7.0]|\n",
      "|   Varsha| 28|         6| 12000|          [28.0,6.0]|\n",
      "|   Anisha| 27|         5| 14000|          [27.0,5.0]|\n",
      "|   Aritra| 28|         5| 11000|          [28.0,5.0]|\n",
      "+---------+---+----------+------+--------------------+\n",
      "\n"
     ]
    }
   ],
   "source": [
    "output.show()"
   ]
  },
  {
   "cell_type": "code",
   "execution_count": 15,
   "id": "1e4a69d5-8209-4acd-8fb0-127650028519",
   "metadata": {},
   "outputs": [
    {
     "data": {
      "text/plain": [
       "['Name', 'Age', 'Experience', 'Salary', 'Independent Features']"
      ]
     },
     "execution_count": 15,
     "metadata": {},
     "output_type": "execute_result"
    }
   ],
   "source": [
    "output.columns"
   ]
  },
  {
   "cell_type": "code",
   "execution_count": 16,
   "id": "ab2f4492-b947-4978-89a2-53f7c3a516c6",
   "metadata": {},
   "outputs": [],
   "source": [
    "finalized_data=output.select(\"Independent Features\",\"Salary\")"
   ]
  },
  {
   "cell_type": "code",
   "execution_count": 17,
   "id": "c53ec649-8268-477e-a64a-2412bf7b784f",
   "metadata": {},
   "outputs": [
    {
     "name": "stdout",
     "output_type": "stream",
     "text": [
      "+--------------------+------+\n",
      "|Independent Features|Salary|\n",
      "+--------------------+------+\n",
      "|          [29.0,6.0]| 10000|\n",
      "|          [25.0,4.0]|  8000|\n",
      "|          [26.0,4.0]|  8400|\n",
      "|          [29.0,7.0]| 18000|\n",
      "|          [28.0,6.0]| 12000|\n",
      "|          [27.0,5.0]| 14000|\n",
      "|          [28.0,5.0]| 11000|\n",
      "+--------------------+------+\n",
      "\n"
     ]
    }
   ],
   "source": [
    "finalized_data.show()"
   ]
  },
  {
   "cell_type": "code",
   "execution_count": 18,
   "id": "75c5bca7-3e71-44ab-ae98-bf8b864e9ce3",
   "metadata": {},
   "outputs": [],
   "source": [
    "from pyspark.ml.regression import LinearRegression\n",
    "##train test split\n",
    "train_data,test_data=finalized_data.randomSplit([0.75,0.25])\n",
    "regressor=LinearRegression(featuresCol='Independent Features', labelCol='Salary')\n",
    "regressor=regressor.fit(train_data)"
   ]
  },
  {
   "cell_type": "code",
   "execution_count": 19,
   "id": "90d23955-8d39-47e2-a1a7-360461a4bba1",
   "metadata": {},
   "outputs": [
    {
     "data": {
      "text/plain": [
       "DenseVector([63.1579, 2810.5263])"
      ]
     },
     "execution_count": 19,
     "metadata": {},
     "output_type": "execute_result"
    }
   ],
   "source": [
    "regressor.coefficients"
   ]
  },
  {
   "cell_type": "code",
   "execution_count": 20,
   "id": "213a982d-60a9-4cc9-94f2-4ac15c8ee389",
   "metadata": {},
   "outputs": [
    {
     "data": {
      "text/plain": [
       "-4336.842105257627"
      ]
     },
     "execution_count": 20,
     "metadata": {},
     "output_type": "execute_result"
    }
   ],
   "source": [
    "### Intercepts\n",
    "regressor.intercept"
   ]
  },
  {
   "cell_type": "code",
   "execution_count": 21,
   "id": "72b50266-4a0f-403e-8377-8722a7e85b9e",
   "metadata": {},
   "outputs": [],
   "source": [
    "pred_results=regressor.evaluate(test_data)"
   ]
  },
  {
   "cell_type": "code",
   "execution_count": 22,
   "id": "df174341-bcf7-481c-905b-b371695fcca1",
   "metadata": {},
   "outputs": [
    {
     "name": "stdout",
     "output_type": "stream",
     "text": [
      "+--------------------+------+------------------+\n",
      "|Independent Features|Salary|        prediction|\n",
      "+--------------------+------+------------------+\n",
      "|          [29.0,6.0]| 10000|14357.894736841878|\n",
      "+--------------------+------+------------------+\n",
      "\n"
     ]
    }
   ],
   "source": [
    "pred_results.predictions.show()"
   ]
  },
  {
   "cell_type": "code",
   "execution_count": 23,
   "id": "7c1bfadc-0ac1-4c53-8cc1-6331ab6e3731",
   "metadata": {},
   "outputs": [
    {
     "data": {
      "text/plain": [
       "(4357.894736841878, 18991246.537394136)"
      ]
     },
     "execution_count": 23,
     "metadata": {},
     "output_type": "execute_result"
    }
   ],
   "source": [
    "pred_results.meanAbsoluteError,pred_results.meanSquaredError"
   ]
  },
  {
   "cell_type": "code",
   "execution_count": null,
   "id": "7e48c753-c4a4-4cc0-a0d4-1457384071fd",
   "metadata": {},
   "outputs": [],
   "source": []
  }
 ],
 "metadata": {
  "kernelspec": {
   "display_name": "Python 3 (ipykernel)",
   "language": "python",
   "name": "python3"
  },
  "language_info": {
   "codemirror_mode": {
    "name": "ipython",
    "version": 3
   },
   "file_extension": ".py",
   "mimetype": "text/x-python",
   "name": "python",
   "nbconvert_exporter": "python",
   "pygments_lexer": "ipython3",
   "version": "3.11.7"
  }
 },
 "nbformat": 4,
 "nbformat_minor": 5
}
