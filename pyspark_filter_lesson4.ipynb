{
 "cells": [
  {
   "cell_type": "markdown",
   "id": "d8f3cd6c-14ab-434b-a23e-f81478d36602",
   "metadata": {},
   "source": [
    "PySpark filter operations\n",
    "\n",
    "&, |, ==\n",
    "~"
   ]
  },
  {
   "cell_type": "code",
   "execution_count": 1,
   "id": "aa366eb0-bf51-4d43-855d-8cdd7d38ece9",
   "metadata": {},
   "outputs": [],
   "source": [
    "from pyspark.sql import SparkSession"
   ]
  },
  {
   "cell_type": "code",
   "execution_count": 2,
   "id": "c4feb92e-6058-46cd-8efd-f499c2270562",
   "metadata": {},
   "outputs": [],
   "source": [
    "spark = SparkSession.builder.appName('Practice3').getOrCreate()"
   ]
  },
  {
   "cell_type": "code",
   "execution_count": 5,
   "id": "27056d10-42ed-412d-8e9e-191842a73455",
   "metadata": {},
   "outputs": [],
   "source": [
    "dfp = spark.read.csv('test1.csv', header = True, inferSchema = True)"
   ]
  },
  {
   "cell_type": "code",
   "execution_count": 6,
   "id": "f778b4e4-084a-45d3-9fa8-ca8243093b3e",
   "metadata": {},
   "outputs": [
    {
     "name": "stdout",
     "output_type": "stream",
     "text": [
      "+---------+---+----------+------+\n",
      "|     Name|Age|Experience|Salary|\n",
      "+---------+---+----------+------+\n",
      "|   Srijit| 29|         6| 10000|\n",
      "|    Parna| 25|         4|  8000|\n",
      "|Soumyajit| 26|         4|  8400|\n",
      "|   Rounak| 29|         7| 18000|\n",
      "|   Varsha| 28|         6| 12000|\n",
      "|   Anisha| 27|         5| 14000|\n",
      "|   Aritra| 28|         5| 11000|\n",
      "+---------+---+----------+------+\n",
      "\n"
     ]
    }
   ],
   "source": [
    "dfp.show()"
   ]
  },
  {
   "cell_type": "markdown",
   "id": "cc2636a7-6ec8-4a00-ac95-325b057e6add",
   "metadata": {},
   "source": [
    "### Filter operation using pyspark"
   ]
  },
  {
   "cell_type": "code",
   "execution_count": 7,
   "id": "470ec4d4-da77-4fb7-ac87-e65d0f6437d5",
   "metadata": {},
   "outputs": [],
   "source": [
    "#salary less than or equal to 10000"
   ]
  },
  {
   "cell_type": "code",
   "execution_count": 8,
   "id": "0313a6d0-06bf-406d-bd6e-971c832cb0f7",
   "metadata": {},
   "outputs": [
    {
     "name": "stdout",
     "output_type": "stream",
     "text": [
      "+---------+---+----------+------+\n",
      "|     Name|Age|Experience|Salary|\n",
      "+---------+---+----------+------+\n",
      "|   Srijit| 29|         6| 10000|\n",
      "|    Parna| 25|         4|  8000|\n",
      "|Soumyajit| 26|         4|  8400|\n",
      "+---------+---+----------+------+\n",
      "\n"
     ]
    }
   ],
   "source": [
    "dfp.filter(\"Salary<=10000\").show()"
   ]
  },
  {
   "cell_type": "code",
   "execution_count": 9,
   "id": "34181fdd-d2d2-4d1b-b2bd-56f44305404a",
   "metadata": {},
   "outputs": [
    {
     "name": "stdout",
     "output_type": "stream",
     "text": [
      "+---------+---+\n",
      "|     Name|Age|\n",
      "+---------+---+\n",
      "|   Srijit| 29|\n",
      "|    Parna| 25|\n",
      "|Soumyajit| 26|\n",
      "+---------+---+\n",
      "\n"
     ]
    }
   ],
   "source": [
    "dfp.filter(\"Salary<=10000\").select(['Name','Age']).show()"
   ]
  },
  {
   "cell_type": "code",
   "execution_count": 12,
   "id": "b1abba5e-5d3c-4bd9-89ec-bdf9cc0e69fa",
   "metadata": {},
   "outputs": [
    {
     "name": "stdout",
     "output_type": "stream",
     "text": [
      "+------+---+----------+------+\n",
      "|  Name|Age|Experience|Salary|\n",
      "+------+---+----------+------+\n",
      "|Rounak| 29|         7| 18000|\n",
      "+------+---+----------+------+\n",
      "\n"
     ]
    }
   ],
   "source": [
    "dfp.filter((dfp['Salary']<=20000) &\n",
    "                  (dfp['Salary']>=15000)).show()"
   ]
  },
  {
   "cell_type": "code",
   "execution_count": 15,
   "id": "85d80cf8-a510-4d44-a5e8-742f9673ca38",
   "metadata": {},
   "outputs": [
    {
     "name": "stdout",
     "output_type": "stream",
     "text": [
      "+------+---+----------+------+\n",
      "|  Name|Age|Experience|Salary|\n",
      "+------+---+----------+------+\n",
      "|Rounak| 29|         7| 18000|\n",
      "|Varsha| 28|         6| 12000|\n",
      "|Anisha| 27|         5| 14000|\n",
      "|Aritra| 28|         5| 11000|\n",
      "+------+---+----------+------+\n",
      "\n"
     ]
    }
   ],
   "source": [
    "dfp.filter(~(dfp['Salary']<=10000)).show()  #not function"
   ]
  },
  {
   "cell_type": "code",
   "execution_count": null,
   "id": "04fd408f-f90e-4bbb-85d7-48f83456c1f1",
   "metadata": {},
   "outputs": [],
   "source": []
  }
 ],
 "metadata": {
  "kernelspec": {
   "display_name": "Python 3 (ipykernel)",
   "language": "python",
   "name": "python3"
  },
  "language_info": {
   "codemirror_mode": {
    "name": "ipython",
    "version": 3
   },
   "file_extension": ".py",
   "mimetype": "text/x-python",
   "name": "python",
   "nbconvert_exporter": "python",
   "pygments_lexer": "ipython3",
   "version": "3.11.7"
  }
 },
 "nbformat": 4,
 "nbformat_minor": 5
}
